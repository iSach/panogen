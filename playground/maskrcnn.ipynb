{
 "cells": [
  {
   "cell_type": "code",
   "execution_count": 19,
   "metadata": {},
   "outputs": [
    {
     "name": "stdout",
     "output_type": "stream",
     "text": [
      "torch.Size([1, 3, 720, 1280])\n"
     ]
    },
    {
     "name": "stderr",
     "output_type": "stream",
     "text": [
      "/Users/sacha/miniconda3/envs/tfe/lib/python3.9/site-packages/torchvision/models/_utils.py:208: UserWarning: The parameter 'pretrained' is deprecated since 0.13 and may be removed in the future, please use 'weights' instead.\n",
      "  warnings.warn(\n",
      "/Users/sacha/miniconda3/envs/tfe/lib/python3.9/site-packages/torchvision/models/_utils.py:223: UserWarning: Arguments other than a weight enum or `None` for 'weights' are deprecated since 0.13 and may be removed in the future. The current behavior is equivalent to passing `weights=MaskRCNN_ResNet50_FPN_Weights.COCO_V1`. You can also use `weights=MaskRCNN_ResNet50_FPN_Weights.DEFAULT` to get the most up-to-date weights.\n",
      "  warnings.warn(msg)\n"
     ]
    },
    {
     "name": "stdout",
     "output_type": "stream",
     "text": [
      "4.169428110122681\n"
     ]
    },
    {
     "ename": "AttributeError",
     "evalue": "'Tensor' object has no attribute 'ToPILImage'",
     "output_type": "error",
     "traceback": [
      "\u001b[0;31m---------------------------------------------------------------------------\u001b[0m",
      "\u001b[0;31mAttributeError\u001b[0m                            Traceback (most recent call last)",
      "Cell \u001b[0;32mIn [19], line 32\u001b[0m\n\u001b[1;32m     29\u001b[0m segmented_image \u001b[39m=\u001b[39m image[\u001b[39m0\u001b[39m] \u001b[39m*\u001b[39m foreground_mask\n\u001b[1;32m     31\u001b[0m \u001b[39m# Save the segmented image\u001b[39;00m\n\u001b[0;32m---> 32\u001b[0m segmented_image\u001b[39m.\u001b[39;49mToPILImage()\u001b[39m.\u001b[39mshow()\n",
      "\u001b[0;31mAttributeError\u001b[0m: 'Tensor' object has no attribute 'ToPILImage'"
     ]
    }
   ],
   "source": [
    "import torch\n",
    "import torchvision\n",
    "from PIL import Image\n",
    "import numpy as np\n",
    "import matplotlib.pyplot as plt\n",
    "import time\n",
    "\n",
    "# Load the input image\n",
    "img = Image.open('data/img_5_1/img_5_1_0419.jpg').convert('RGB')\n",
    "image = torchvision.transforms.ToTensor()(img).unsqueeze(0)\n",
    "print(image.shape)\n",
    "\n",
    "# Create a Mask R-CNN model\n",
    "model = torchvision.models.detection.maskrcnn_resnet50_fpn(pretrained=True)\n",
    "model.eval()\n",
    "\n",
    "t = time.time()\n",
    "# Run the model on the input image\n",
    "output = model(image)[0]\n",
    "print(time.time() - t)\n",
    "\n",
    "# Extract the segmentation masks for each object in the image\n",
    "segmentation_masks = output[\"masks\"]\n",
    "\n",
    "# Use the segmentation masks to create a foreground mask for the image\n",
    "foreground_mask = torch.max(segmentation_masks, dim=0)[0]\n",
    "\n",
    "# Use the foreground mask to create a segmented image\n",
    "segmented_image = image[0] * foreground_mask\n",
    "\n",
    "# Save the segmented image\n",
    "segmented_image.ToPILImage().show()"
   ]
  },
  {
   "cell_type": "code",
   "execution_count": 20,
   "metadata": {},
   "outputs": [],
   "source": [
    "torchvision.transforms.ToPILImage()(segmented_image).show()"
   ]
  }
 ],
 "metadata": {
  "kernelspec": {
   "display_name": "Python 3.9.0 ('tfe')",
   "language": "python",
   "name": "python3"
  },
  "language_info": {
   "codemirror_mode": {
    "name": "ipython",
    "version": 3
   },
   "file_extension": ".py",
   "mimetype": "text/x-python",
   "name": "python",
   "nbconvert_exporter": "python",
   "pygments_lexer": "ipython3",
   "version": "3.9.0"
  },
  "orig_nbformat": 4,
  "vscode": {
   "interpreter": {
    "hash": "9f894e437981a62ea28966f86d5a604c45536486bc8d6145cb6a9cc0389df8fa"
   }
  }
 },
 "nbformat": 4,
 "nbformat_minor": 2
}
