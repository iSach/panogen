{
 "cells": [
  {
   "cell_type": "code",
   "execution_count": 2,
   "metadata": {},
   "outputs": [
    {
     "name": "stdout",
     "output_type": "stream",
     "text": [
      "Using device: cuda\n"
     ]
    },
    {
     "name": "stderr",
     "output_type": "stream",
     "text": [
      "Using cache found in /home/sach/.cache/torch/hub/ultralytics_yolov5_master\n",
      "YOLOv5 🚀 2022-11-30 Python-3.6.9 torch-1.10.1 CUDA:0 (NVIDIA GeForce RTX 3080, 10015MiB)\n",
      "\n"
     ]
    },
    {
     "name": "stdout",
     "output_type": "stream",
     "text": [
      "WARNING ⚠️ Python 3.7.0 is required by YOLOv5, but Python 3.6.9 is currently installed\n"
     ]
    },
    {
     "name": "stderr",
     "output_type": "stream",
     "text": [
      "Fusing layers... \n",
      "YOLOv5s summary: 213 layers, 7225885 parameters, 0 gradients\n",
      "Adding AutoShape... \n"
     ]
    }
   ],
   "source": [
    "import torch\n",
    "import cv2\n",
    "import yaml\n",
    "from acquisition import VideoFeedReader\n",
    "import time\n",
    "\n",
    "# set device\n",
    "device = torch.device('cuda' if torch.cuda.is_available() else 'cpu')\n",
    "print('Using device:', device)\n",
    "\n",
    "# Model\n",
    "model = torch.hub.load('ultralytics/yolov5', 'yolov5s').to(device) # or yolov3-spp, yolov3-tiny, custom\n",
    "#model = torch.hub.load('ultralytics/yolov5', 'yolov5x').to(device) # or yolov3-spp, yolov3-tiny, custom"
   ]
  },
  {
   "cell_type": "code",
   "execution_count": 7,
   "metadata": {},
   "outputs": [
    {
     "name": "stderr",
     "output_type": "stream",
     "text": [
      "100%|██████████| 500/500 [00:15<00:00, 31.84it/s]"
     ]
    },
    {
     "name": "stdout",
     "output_type": "stream",
     "text": [
      "Average read time:  0.009254437446594238\n",
      "Average inference time:  0.007653766632080078\n",
      "Average draw time:  0.014380115985870362\n",
      "Average FPS:  31.960808312402197\n"
     ]
    },
    {
     "name": "stderr",
     "output_type": "stream",
     "text": [
      "\n"
     ]
    }
   ],
   "source": [
    "import numpy as np\n",
    "from PIL import Image\n",
    "from tqdm import tqdm\n",
    "\n",
    "path = \"data/img_5_1/img_5_1_\"\n",
    "nb_frames = 500\n",
    "\n",
    "ball_class = 32\n",
    "person_class = 0\n",
    "\n",
    "use_rgb = True\n",
    "\n",
    "codec = cv2.VideoWriter_fourcc(*'mp4v')\n",
    "# Detection stream\n",
    "dec_stream = cv2.VideoWriter(\"detection.mp4\", codec, 25.0, (1280, 720), isColor=use_rgb)\n",
    "# Segmentation stream\n",
    "seg_stream = cv2.VideoWriter(\"segmentation.mp4\", codec, 25.0, (1280, 720), isColor=use_rgb)\n",
    "# Background stream\n",
    "bg_stream = cv2.VideoWriter(\"background.mp4\", codec, 25.0, (1280, 720), isColor=use_rgb)\n",
    "\n",
    "read_times = []\n",
    "inf_times = []\n",
    "draw_times = []\n",
    "\n",
    "display = False\n",
    "\n",
    "for i in tqdm(range(0, nb_frames)):\n",
    "    t = time.time()\n",
    "    img_path = path + str(i).zfill(4) + '.jpg'\n",
    "    cv_img = cv2.imread(img_path, cv2.IMREAD_COLOR if use_rgb else cv2.IMREAD_GRAYSCALE)\n",
    "    read_times.append(time.time() - t)\n",
    "    t = time.time()\n",
    "    res = model(cv_img).xyxy[0]\n",
    "    res = res[(res[:, 5] == ball_class) | (res[:, 5] == person_class)]\n",
    "\n",
    "    inf_times.append(time.time() - t)\n",
    "    #print(\"Inference time: \", inf_times[-1])\n",
    "    t = time.time()\n",
    "\n",
    "    # Create a mask for bounding boxes:\n",
    "    mask = np.zeros((720, 1280, 3), dtype=np.uint8)\n",
    "    for box in res:\n",
    "        c = int(box[5])\n",
    "        if c == ball_class:\n",
    "            # Draw a disk\n",
    "            # Center = middle of bounding box\n",
    "            center = (int((box[0] + box[2]) / 2), int((box[1] + box[3]) / 2))\n",
    "            # Radius = half of the bounding box\n",
    "            radius = int((box[2] - box[0]) / 2)\n",
    "            cv2.circle(mask, center, radius, (1, 1, 1), -1)\n",
    "        else:\n",
    "            # Person: draw a rectangle.\n",
    "            #mask[int(box[1]):int(box[3]), int(box[0]):int(box[2]), :] = 1\n",
    "            cv2.ellipse(mask, (int((box[0] + box[2]) / 2), int((box[1] + box[3]) / 2)), (int((box[2] - box[0]) / 2), int((box[3] - box[1]) / 2)), 0, 0, 360, (1, 1, 1), -1)\n",
    "    seg_stream.write(mask * 255)\n",
    "    bg_stream.write((1 - mask) * cv_img)\n",
    "\n",
    "    for *xyxy, conf, cls in res:\n",
    "        label = '%s %.2f' % (model.names[int(cls)], conf)\n",
    "        # Draw box on image\n",
    "        cv2.rectangle(cv_img, (int(xyxy[0]), int(xyxy[1])), (int(xyxy[2]), int(xyxy[3])), (0, 255, 0), 2)\n",
    "    dec_stream.write(cv_img)\n",
    "\n",
    "    if display:\n",
    "        cv2.imshow(\"Detecting Motion...\", cv_img)\n",
    "        if cv2.waitKey(1) & 0xFF == ord('q'):\n",
    "            break\n",
    "\n",
    "    draw_times.append(time.time() - t)\n",
    "cv2.destroyAllWindows()\n",
    "seg_stream.release()\n",
    "dec_stream.release()\n",
    "bg_stream.release()\n",
    "\n",
    "# Average inference & draw time\n",
    "print(\"Average read time: \", np.mean(read_times))\n",
    "print(\"Average inference time: \", np.mean(inf_times))\n",
    "print(\"Average draw time: \", np.mean(draw_times))\n",
    "# Average FPS:\n",
    "print(\"Average FPS: \", nb_frames / (np.sum(inf_times) + np.sum(draw_times) + np.sum(read_times)))"
   ]
  }
 ],
 "metadata": {
  "kernelspec": {
   "display_name": "Python 3.6.9 ('cv')",
   "language": "python",
   "name": "python3"
  },
  "language_info": {
   "codemirror_mode": {
    "name": "ipython",
    "version": 3
   },
   "file_extension": ".py",
   "mimetype": "text/x-python",
   "name": "python",
   "nbconvert_exporter": "python",
   "pygments_lexer": "ipython3",
   "version": "3.6.9"
  },
  "orig_nbformat": 4,
  "vscode": {
   "interpreter": {
    "hash": "6c2e117626dba50c6b1b13c3df5f8cd020e3b4688fec6edea3e06d08349081b2"
   }
  }
 },
 "nbformat": 4,
 "nbformat_minor": 2
}
