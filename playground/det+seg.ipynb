{
 "cells": [
  {
   "cell_type": "code",
   "execution_count": 1,
   "metadata": {},
   "outputs": [
    {
     "name": "stderr",
     "output_type": "stream",
     "text": [
      "/Users/sacha/miniconda3/envs/tfe/lib/python3.9/site-packages/tqdm/auto.py:22: TqdmWarning: IProgress not found. Please update jupyter and ipywidgets. See https://ipywidgets.readthedocs.io/en/stable/user_install.html\n",
      "  from .autonotebook import tqdm as notebook_tqdm\n"
     ]
    },
    {
     "name": "stdout",
     "output_type": "stream",
     "text": [
      "Using device: cpu\n"
     ]
    },
    {
     "name": "stderr",
     "output_type": "stream",
     "text": [
      "Using cache found in /Users/sacha/.cache/torch/hub/ultralytics_yolov5_master\n",
      "YOLOv5 🚀 2022-12-2 Python-3.9.0 torch-1.13.0 CPU\n",
      "\n",
      "Fusing layers... \n",
      "YOLOv5n summary: 213 layers, 1867405 parameters, 0 gradients\n",
      "Adding AutoShape... \n"
     ]
    }
   ],
   "source": [
    "import torch\n",
    "import cv2\n",
    "import yaml\n",
    "from acquisition import VideoFeedReader\n",
    "import time\n",
    "\n",
    "# set device\n",
    "device = torch.device('cuda' if torch.cuda.is_available() else 'cpu')\n",
    "print('Using device:', device)\n",
    "\n",
    "# Model\n",
    "model = torch.hub.load('ultralytics/yolov5', 'yolov5n').to(device) # or yolov3-spp, yolov3-tiny, custom\n",
    "#model = torch.hub.load('ultralytics/yolov5', 'yolov5x').to(device) # or yolov3-spp, yolov3-tiny, custom"
   ]
  },
  {
   "cell_type": "code",
   "execution_count": 6,
   "metadata": {},
   "outputs": [
    {
     "name": "stdout",
     "output_type": "stream",
     "text": [
      "0.011158943176269531\n",
      "tensor([[1.11945e+03, 1.47308e+01, 1.28000e+03, 4.81128e+02, 2.53678e-01, 0.00000e+00]])\n",
      "0.30521702766418457\n",
      "0.0004930496215820312\n",
      "\n",
      "Average inference time:  0.000514984130859375\n",
      "Average draw time:  0.04349517822265625\n",
      "Average FPS:  34083.03718471006\n"
     ]
    }
   ],
   "source": [
    "import numpy as np\n",
    "from PIL import Image\n",
    "\n",
    "path = \"data/img_5_1/img_5_1_\"\n",
    "nb_frames = 1500\n",
    "\n",
    "ball_class = 32\n",
    "person_class = 0\n",
    "\n",
    "codec = cv2.VideoWriter_fourcc(*'mp4v')\n",
    "# Detection stream\n",
    "dec_stream = cv2.VideoWriter(\"detection.mp4\", codec, 25.0, (1280, 720), 0)\n",
    "# Segmentation stream\n",
    "seg_stream = cv2.VideoWriter(\"segmentation.mp4\", codec, 25.0, (1280, 720), 0)\n",
    "# Background stream\n",
    "bg_stream = cv2.VideoWriter(\"background.mp4\", codec, 25.0, (1280, 720), 0)\n",
    "\n",
    "inf_times = []\n",
    "draw_times = []\n",
    "\n",
    "display = False\n",
    "\n",
    "t = time.time()\n",
    "for i in range(0, nb_frames):\n",
    "    t = time.time()\n",
    "    img_path = path + str(i).zfill(4) + '.jpg'\n",
    "    cv_img = cv2.imread(img_path, cv2.IMREAD_GRAYSCALE)\n",
    "    print(time.time() - t)\n",
    "    t = time.time()\n",
    "    res = model(cv_img).xyxy[0]\n",
    "    print(time.time() - t)\n",
    "    t = time.time()\n",
    "    res = res[(res[:, 5] == ball_class) | (res[:, 5] == person_class)]\n",
    "    print(time.time() - t)\n",
    "    print()\n",
    "\n",
    "    inf_times.append(time.time() - t)\n",
    "    #print(\"Inference time: \", inf_times[-1])\n",
    "    t = time.time()\n",
    "\n",
    "    # Create a mask for bounding boxes:\n",
    "    mask = np.zeros((720, 1280), dtype=np.uint8)\n",
    "    for box in res:\n",
    "        mask[int(box[1]):int(box[3]), int(box[0]):int(box[2])] = 1\n",
    "    seg_stream.write(mask * 255)\n",
    "    bg_stream.write((1 - mask) * cv_img)\n",
    "\n",
    "    img = cv2.imread(img_path, cv2.IMREAD_GRAYSCALE)\n",
    "    for *xyxy, conf, cls in res:\n",
    "        label = '%s %.2f' % (model.names[int(cls)], conf)\n",
    "        # Draw box on image\n",
    "        cv2.rectangle(img, (int(xyxy[0]), int(xyxy[1])), (int(xyxy[2]), int(xyxy[3])), (0, 255, 0), 2)\n",
    "    dec_stream.write(img)\n",
    "\n",
    "    if display:\n",
    "        cv2.imshow(\"Detecting Motion...\", img)\n",
    "        if cv2.waitKey(1) & 0xFF == ord('q'):\n",
    "            break\n",
    "\n",
    "    draw_times.append(time.time() - t)\n",
    "    t = time.time()\n",
    "cv2.destroyAllWindows()\n",
    "seg_stream.release()\n",
    "dec_stream.release()\n",
    "bg_stream.release()\n",
    "\n",
    "# Average inference & draw time\n",
    "print(\"Average inference time: \", np.mean(inf_times))\n",
    "print(\"Average draw time: \", np.mean(draw_times))\n",
    "# Average FPS:\n",
    "print(\"Average FPS: \", nb_frames / (np.sum(inf_times) + np.sum(draw_times)))"
   ]
  }
 ],
 "metadata": {
  "kernelspec": {
   "display_name": "Python 3.9.0 ('tfe')",
   "language": "python",
   "name": "python3"
  },
  "language_info": {
   "codemirror_mode": {
    "name": "ipython",
    "version": 3
   },
   "file_extension": ".py",
   "mimetype": "text/x-python",
   "name": "python",
   "nbconvert_exporter": "python",
   "pygments_lexer": "ipython3",
   "version": "3.9.0"
  },
  "orig_nbformat": 4,
  "vscode": {
   "interpreter": {
    "hash": "9f894e437981a62ea28966f86d5a604c45536486bc8d6145cb6a9cc0389df8fa"
   }
  }
 },
 "nbformat": 4,
 "nbformat_minor": 2
}
